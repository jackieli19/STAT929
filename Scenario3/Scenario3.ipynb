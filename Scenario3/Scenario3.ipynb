{
 "cells": [
  {
   "cell_type": "code",
   "execution_count": 146,
   "metadata": {},
   "outputs": [],
   "source": [
    "import pandas as pd\n",
    "from functools import reduce\n",
    "import numpy as np\n",
    "import impyute as impy\n",
    "from sklearn.metrics import mean_squared_error,r2_score\n",
    "import datawig\n",
    "from ppca import PPCA\n",
    "from fancyimpute import NuclearNormMinimization, MatrixFactorization\n",
    "import matplotlib.pyplot as plt"
   ]
  },
  {
   "cell_type": "markdown",
   "metadata": {},
   "source": [
    "#### Data Preparation"
   ]
  },
  {
   "cell_type": "code",
   "execution_count": 55,
   "metadata": {},
   "outputs": [],
   "source": [
    "def readtodf(filename, colname):\n",
    "    a=filename+'.txt'\n",
    "    data = pd.read_csv(a, sep=\",\", header=(0))\n",
    "    data.columns=['a','Date',colname]\n",
    "    data=data.drop('a',axis=1)\n",
    "    data['Date'] = pd.to_datetime(data['Date'])\n",
    "    data = data.set_index('Date')\n",
    "    \n",
    "    return data"
   ]
  },
  {
   "cell_type": "code",
   "execution_count": 56,
   "metadata": {},
   "outputs": [],
   "source": [
    "target=readtodf('prod_target','Beer')\n",
    "prod_1=readtodf('prod_1','Car')\n",
    "prod_2=readtodf('prod_2','Steel')\n",
    "eng_1=readtodf('eng_1','Gas')\n",
    "eng_2=readtodf('eng_2','Electricity')"
   ]
  },
  {
   "cell_type": "code",
   "execution_count": 57,
   "metadata": {},
   "outputs": [],
   "source": [
    "temp = pd.read_csv('temp.txt', sep=\",\", header=(0))\n",
    "temp.columns=['num','year','month','Temp']\n",
    "temp=temp.drop('num',axis=1)\n",
    "temp['day']=1\n",
    "temp['Date']=pd.to_datetime(temp[['year', 'month', 'day']])\n",
    "temp=temp.drop(['year', 'month', 'day'],axis=1)\n",
    "temp = temp.set_index('Date')"
   ]
  },
  {
   "cell_type": "code",
   "execution_count": 58,
   "metadata": {},
   "outputs": [
    {
     "data": {
      "text/plain": [
       "((435, 1), (369, 1), (435, 1), (435, 1), (435, 1), (581, 1))"
      ]
     },
     "execution_count": 58,
     "metadata": {},
     "output_type": "execute_result"
    }
   ],
   "source": [
    "target.shape,prod_1.shape,prod_2.shape, eng_1.shape,eng_2.shape,temp.shape"
   ]
  },
  {
   "cell_type": "code",
   "execution_count": 66,
   "metadata": {},
   "outputs": [],
   "source": [
    " # creat dataframe version of merged data\n",
    "dfs = [target, prod_1, prod_2, eng_1,eng_2,temp]\n",
    "df_final = reduce(lambda left,right: pd.merge(left,right,left_index=True, right_index=True,how='left'), dfs)\n",
    "#df_final.to_csv('data_merged.csv')\n",
    "\n",
    "# creat numpy version of merged data\n",
    "np_final=np.array(df_final.values,dtype=np.float)"
   ]
  },
  {
   "cell_type": "code",
   "execution_count": 67,
   "metadata": {},
   "outputs": [
    {
     "data": {
      "text/plain": [
       "(435, 6)"
      ]
     },
     "execution_count": 67,
     "metadata": {},
     "output_type": "execute_result"
    }
   ],
   "source": [
    "np_final.shape"
   ]
  },
  {
   "cell_type": "code",
   "execution_count": 68,
   "metadata": {},
   "outputs": [
    {
     "data": {
      "text/html": [
       "<div>\n",
       "<style scoped>\n",
       "    .dataframe tbody tr th:only-of-type {\n",
       "        vertical-align: middle;\n",
       "    }\n",
       "\n",
       "    .dataframe tbody tr th {\n",
       "        vertical-align: top;\n",
       "    }\n",
       "\n",
       "    .dataframe thead th {\n",
       "        text-align: right;\n",
       "    }\n",
       "</style>\n",
       "<table border=\"1\" class=\"dataframe\">\n",
       "  <thead>\n",
       "    <tr style=\"text-align: right;\">\n",
       "      <th></th>\n",
       "      <th>Beer</th>\n",
       "      <th>Car</th>\n",
       "      <th>Steel</th>\n",
       "      <th>Gas</th>\n",
       "      <th>Electricity</th>\n",
       "      <th>Temp</th>\n",
       "    </tr>\n",
       "    <tr>\n",
       "      <th>Date</th>\n",
       "      <th></th>\n",
       "      <th></th>\n",
       "      <th></th>\n",
       "      <th></th>\n",
       "      <th></th>\n",
       "      <th></th>\n",
       "    </tr>\n",
       "  </thead>\n",
       "  <tbody>\n",
       "    <tr>\n",
       "      <th>1956-01-01</th>\n",
       "      <td>93.2</td>\n",
       "      <td>NaN</td>\n",
       "      <td>196.9</td>\n",
       "      <td>1709</td>\n",
       "      <td>1254</td>\n",
       "      <td>25.1</td>\n",
       "    </tr>\n",
       "    <tr>\n",
       "      <th>1956-02-01</th>\n",
       "      <td>96.0</td>\n",
       "      <td>NaN</td>\n",
       "      <td>192.1</td>\n",
       "      <td>1646</td>\n",
       "      <td>1290</td>\n",
       "      <td>25.3</td>\n",
       "    </tr>\n",
       "    <tr>\n",
       "      <th>1956-03-01</th>\n",
       "      <td>95.2</td>\n",
       "      <td>NaN</td>\n",
       "      <td>201.8</td>\n",
       "      <td>1794</td>\n",
       "      <td>1379</td>\n",
       "      <td>24.9</td>\n",
       "    </tr>\n",
       "    <tr>\n",
       "      <th>1956-04-01</th>\n",
       "      <td>77.1</td>\n",
       "      <td>NaN</td>\n",
       "      <td>186.9</td>\n",
       "      <td>1878</td>\n",
       "      <td>1346</td>\n",
       "      <td>23.9</td>\n",
       "    </tr>\n",
       "    <tr>\n",
       "      <th>1956-05-01</th>\n",
       "      <td>70.9</td>\n",
       "      <td>NaN</td>\n",
       "      <td>218.0</td>\n",
       "      <td>2173</td>\n",
       "      <td>1535</td>\n",
       "      <td>19.4</td>\n",
       "    </tr>\n",
       "  </tbody>\n",
       "</table>\n",
       "</div>"
      ],
      "text/plain": [
       "            Beer  Car  Steel   Gas  Electricity  Temp\n",
       "Date                                                 \n",
       "1956-01-01  93.2  NaN  196.9  1709         1254  25.1\n",
       "1956-02-01  96.0  NaN  192.1  1646         1290  25.3\n",
       "1956-03-01  95.2  NaN  201.8  1794         1379  24.9\n",
       "1956-04-01  77.1  NaN  186.9  1878         1346  23.9\n",
       "1956-05-01  70.9  NaN  218.0  2173         1535  19.4"
      ]
     },
     "execution_count": 68,
     "metadata": {},
     "output_type": "execute_result"
    }
   ],
   "source": [
    "df_final.head()"
   ]
  },
  {
   "cell_type": "markdown",
   "metadata": {},
   "source": [
    "### Imputation"
   ]
  },
  {
   "cell_type": "markdown",
   "metadata": {},
   "source": [
    "##### 1.Mice"
   ]
  },
  {
   "cell_type": "markdown",
   "metadata": {},
   "source": [
    "The Multiple Imputation by Chained Equations (MICE) method is widely used in practice, which uses chain equations to create multiple imputations for variables of diferent types."
   ]
  },
  {
   "cell_type": "code",
   "execution_count": 154,
   "metadata": {},
   "outputs": [],
   "source": [
    "ip_mice=impy.imputation.cs.mice(np_final)\n",
    "#np.savetxt('./Imputation Results/imputation_mice.csv',ip_mice,delimiter=\",\")"
   ]
  },
  {
   "cell_type": "markdown",
   "metadata": {},
   "source": [
    "##### 2.KNN"
   ]
  },
  {
   "cell_type": "markdown",
   "metadata": {},
   "source": [
    "- This method uses k-nearest neighbor to fInd similar samples and imputed unobserved data by weighted average of similar observations.\n",
    "- Basic idea: Impute array with a basic mean impute and then use the resulting complete array to construct a KDTree. Use this KDTree to compute nearest neighbours. After finding k nearest neighbours, take the weighted average of them. Basically, find the nearest row in terms of distance"
   ]
  },
  {
   "cell_type": "code",
   "execution_count": 124,
   "metadata": {},
   "outputs": [],
   "source": [
    "ip_knn=impy.imputation.cs.fast_knn(np_final)\n",
    "#np.savetxt('./Imputation Results/imputation_knn.csv',ip_knn,delimiter=\",\")"
   ]
  },
  {
   "cell_type": "markdown",
   "metadata": {},
   "source": [
    "##### 3.NuclearNormMinimization"
   ]
  },
  {
   "cell_type": "markdown",
   "metadata": {},
   "source": [
    "Simple implementation of Exact Matrix Completion via Convex Optimization by Emmanuel Candes and Benjamin Recht using cvxpy. Too slow for large matrices."
   ]
  },
  {
   "cell_type": "code",
   "execution_count": 26,
   "metadata": {},
   "outputs": [
    {
     "name": "stdout",
     "output_type": "stream",
     "text": [
      "----------------------------------------------------------------------------\n",
      "\tSCS v2.1.0 - Splitting Conic Solver\n",
      "\t(c) Brendan O'Donoghue, Stanford University, 2012\n",
      "----------------------------------------------------------------------------\n",
      "Lin-sys: sparse-direct, nnz in A = 115539\n",
      "eps = 1.00e-04, alpha = 1.50, max_iters = 50000, normalize = 1, scale = 1.00\n",
      "acceleration_lookback = 10, rho_x = 1.00e-03\n",
      "Variables n = 102681, constraints m = 107901\n",
      "Cones:\tprimal zero / dual free vars: 2610\n",
      "\tlinear vars: 7830\n",
      "\tsd vars: 97461, sd blks: 1\n",
      "Setup time: 7.49e-02s\n",
      "----------------------------------------------------------------------------\n",
      " Iter | pri res | dua res | rel gap | pri obj | dua obj | kap/tau | time (s)\n",
      "----------------------------------------------------------------------------\n",
      "     0| 4.43e+21  4.09e+21  1.00e+00 -3.84e+28  6.77e+27  8.25e+27  7.91e-02 \n",
      "   100| 9.26e-04  9.60e-04  1.00e-04  1.02e+06  1.02e+06  5.96e-10  5.29e+00 \n",
      "   200| 4.07e-04  3.60e-04  2.09e-04  1.02e+06  1.02e+06  9.83e-10  1.03e+01 \n",
      "   300| 2.14e-04  2.24e-04  1.65e-06  1.02e+06  1.02e+06  9.39e-10  1.55e+01 \n",
      "   400| 3.31e-03  2.74e-03  5.99e-08  1.02e+06  1.02e+06  8.22e-10  2.06e+01 \n",
      "   500| 7.02e-04  7.66e-04  6.33e-08  1.02e+06  1.02e+06  8.39e-10  2.57e+01 \n",
      "   540| 4.24e-05  4.64e-05  6.25e-08  1.02e+06  1.02e+06  6.00e-10  2.77e+01 \n",
      "----------------------------------------------------------------------------\n",
      "Status: Solved\n",
      "Timing: Solve time: 2.77e+01s\n",
      "\tLin-sys: nnz in L factor: 328635, avg solve time: 1.37e-03s\n",
      "\tCones: avg projection time: 3.42e-02s\n",
      "\tAcceleration: avg step time: 1.19e-02s\n",
      "----------------------------------------------------------------------------\n",
      "Error metrics:\n",
      "dist(s, K) = 1.3257e-01, dist(y, K*) = 2.9097e-02, s'y/|s||y| = 8.0695e-12\n",
      "primal res: |Ax + s - b|_2 / (1 + |b|_2) = 4.2408e-05\n",
      "dual res:   |A'y + c|_2 / (1 + |c|_2) = 4.6412e-05\n",
      "rel gap:    |c'x + b'y| / (1 + |c'x| + |b'y|) = 6.2547e-08\n",
      "----------------------------------------------------------------------------\n",
      "c'x = 1021337.1277, -b'y = 1021337.2555\n",
      "============================================================================\n"
     ]
    }
   ],
   "source": [
    "X_filled_nnm = NuclearNormMinimization().fit_transform(np_final)"
   ]
  },
  {
   "cell_type": "code",
   "execution_count": 139,
   "metadata": {},
   "outputs": [],
   "source": [
    "ip_nnm=X_filled_nnm"
   ]
  },
  {
   "cell_type": "code",
   "execution_count": 137,
   "metadata": {},
   "outputs": [],
   "source": [
    "#np.savetxt('./Imputation Results/imputation_NuclearNormMinimization.csv',ipp_nnm,delimiter=\",\")"
   ]
  },
  {
   "cell_type": "markdown",
   "metadata": {},
   "source": [
    "##### 4.MatrixFactorization"
   ]
  },
  {
   "cell_type": "markdown",
   "metadata": {},
   "source": [
    "Direct factorization of the incomplete matrix into low-rank U and V, with an L1 sparsity penalty on the elements of U and an L2 penalty on the elements of V. Solved by gradient descent."
   ]
  },
  {
   "cell_type": "code",
   "execution_count": 73,
   "metadata": {},
   "outputs": [],
   "source": [
    "missing_value_mask=np.ma.getmaskarray(np.ma.masked_invalid(np_final))"
   ]
  },
  {
   "cell_type": "code",
   "execution_count": 75,
   "metadata": {},
   "outputs": [],
   "source": [
    "np.savetxt('Mask.csv',missing_value_mask,delimiter=',')"
   ]
  },
  {
   "cell_type": "code",
   "execution_count": null,
   "metadata": {},
   "outputs": [],
   "source": [
    "ip_mf=MatrixFactorization().solve(X=np_final.copy(),missing_mask=missing_value_mask)"
   ]
  },
  {
   "cell_type": "code",
   "execution_count": 79,
   "metadata": {},
   "outputs": [],
   "source": [
    "np.savetxt('./Imputation Results/imputation_matrixfactorization.csv',ip_mf,delimiter=\",\")"
   ]
  },
  {
   "cell_type": "markdown",
   "metadata": {},
   "source": [
    "##### 5.DataWig"
   ]
  },
  {
   "cell_type": "markdown",
   "metadata": {},
   "source": [
    "- \"Deep\" Learning for Missing Value Imputationin Tables with Non-Numerical Data\n",
    "- Details on the underlying model can be found in [Biessmann, Salinas et al. 2018](https://dl.acm.org/citation.cfm?id=3272005)"
   ]
  },
  {
   "cell_type": "code",
   "execution_count": 98,
   "metadata": {},
   "outputs": [],
   "source": [
    "#Initialize a SimpleImputer model\n",
    "imputer = datawig.SimpleImputer(\n",
    "    input_columns=['Car','Steel','Gas','Electricity','Temp'], # column(s) containing information about the column we want to impute\n",
    "    output_column='Beer', # the column we'd like to impute values for\n",
    "    output_path = 'imputer_model' # stores model data and metrics\n",
    "    )\n",
    "\n",
    "#Using LSTMs instead of bag-of-words\n",
    "# data_encoder_cols = [NumericalEncoder('Car'), NumericalEncoder('Steel'),NumericalEncoder('Gas'),\\\n",
    "#                     NumericalEncoder('Electricity'),NumericalEncoder('Temp')]\n",
    "# label_encoder_cols = [NumericalEncoder('Beer')]\n",
    "# data_featurizer_cols = [LSTMFeaturizer('Car'), LSTMFeaturizer('Steel'),LSTMFeaturizer('Gas'),\\\n",
    "#                     LSTMFeaturizer('Electricity'),LSTMFeaturizer('Temp')]\n",
    "\n",
    "# imputer = Imputer(\n",
    "#     data_featurizers=data_featurizer_cols,\n",
    "#     label_encoders=label_encoder_cols,\n",
    "#     data_encoders=data_encoder_cols,\n",
    "#     output_path='imputer_model'\n",
    "# )"
   ]
  },
  {
   "cell_type": "code",
   "execution_count": 99,
   "metadata": {
    "scrolled": true
   },
   "outputs": [
    {
     "name": "stderr",
     "output_type": "stream",
     "text": [
      "2019-04-23 22:51:09,210 [INFO]  Assuming 5 numeric input columns: Car, Steel, Gas, Electricity, Temp\n",
      "2019-04-23 22:51:09,211 [INFO]  Assuming 0 string input columns: \n",
      "2019-04-23 22:51:09,212 [INFO]  No output column name provided for ColumnEncoder using Beer\n",
      "2019-04-23 22:51:09,214 [INFO]  Assuming numeric output column: Beer\n",
      "2019-04-23 22:51:09,215 [INFO]  Using [[cpu(0)]] as the context for training\n",
      "2019-04-23 22:51:09,218 [INFO]  Fitting label encoder <class 'datawig.column_encoders.NumericalEncoder'> on 364 rows                             of training data\n",
      "2019-04-23 22:51:09,222 [INFO]  Detected 0 rows with missing labels                         for column Beer\n",
      "2019-04-23 22:51:09,224 [INFO]  Dropping 0/364 rows\n",
      "2019-04-23 22:51:09,225 [INFO]  Detected 0 rows with missing labels                         for column Beer\n",
      "2019-04-23 22:51:09,226 [INFO]  Dropping 0/40 rows\n",
      "2019-04-23 22:51:09,227 [INFO]  Train: 364, Test: 40\n",
      "2019-04-23 22:51:09,228 [INFO]  Fitting data encoder <class 'datawig.column_encoders.NumericalEncoder'> on columns Car, Steel, Gas, Electricity, Temp and 364 rows of training data with parameters {'input_columns': ['Car', 'Steel', 'Gas', 'Electricity', 'Temp'], 'output_column': 'numerical_features-q6ITZM5jtg', 'output_dim': 5, 'normalize': True, 'scaler': None}\n",
      "2019-04-23 22:51:09,234 [INFO]  Building Train Iterator with 364 elements\n",
      "2019-04-23 22:51:09,244 [INFO]  Concatenating numeric columns ['Car', 'Steel', 'Gas', 'Electricity', 'Temp'] into numerical_features-q6ITZM5jtg\n",
      "2019-04-23 22:51:09,246 [INFO]  Normalizing with StandardScaler\n",
      "2019-04-23 22:51:09,249 [INFO]  Data Encoding - Encoded 365 rows of column                         Car,Steel,Gas,Electricity,Temp with <class 'datawig.column_encoders.NumericalEncoder'> into                         <class 'numpy.ndarray'> of shape (365, 5)                         and then into shape (365, 5)\n",
      "2019-04-23 22:51:09,252 [INFO]  Concatenating numeric columns ['Beer'] into Beer\n",
      "2019-04-23 22:51:09,253 [INFO]  Normalizing with StandardScaler\n",
      "2019-04-23 22:51:09,255 [INFO]  Label Encoding - Encoded 365 rows of column                             Beer with <class 'datawig.column_encoders.NumericalEncoder'> into                             <class 'numpy.ndarray'> of shape (365, 1) and                             then into shape (365, 1)\n",
      "2019-04-23 22:51:09,256 [INFO]  Building Test Iterator with 40 elements\n",
      "2019-04-23 22:51:09,262 [INFO]  Concatenating numeric columns ['Car', 'Steel', 'Gas', 'Electricity', 'Temp'] into numerical_features-q6ITZM5jtg\n",
      "2019-04-23 22:51:09,263 [INFO]  Normalizing with StandardScaler\n",
      "2019-04-23 22:51:09,266 [INFO]  Data Encoding - Encoded 40 rows of column                         Car,Steel,Gas,Electricity,Temp with <class 'datawig.column_encoders.NumericalEncoder'> into                         <class 'numpy.ndarray'> of shape (40, 5)                         and then into shape (40, 5)\n",
      "2019-04-23 22:51:09,269 [INFO]  Concatenating numeric columns ['Beer'] into Beer\n",
      "2019-04-23 22:51:09,271 [INFO]  Normalizing with StandardScaler\n",
      "2019-04-23 22:51:09,275 [INFO]  Label Encoding - Encoded 40 rows of column                             Beer with <class 'datawig.column_encoders.NumericalEncoder'> into                             <class 'numpy.ndarray'> of shape (40, 1) and                             then into shape (40, 1)\n",
      "2019-04-23 22:51:09,277 [INFO]  Concatenating all 1 latent symbols\n",
      "2019-04-23 22:51:09,279 [INFO]  Constructing numerical loss for column Beer\n",
      "2019-04-23 22:51:09,283 [INFO]  Building output symbols\n",
      "2019-04-23 22:51:09,289 [INFO]  \n",
      "========== start: fit model\n",
      "2019-04-23 22:51:09,290 [WARNING]  Already bound, ignoring bind()\n",
      "2019-04-23 22:51:09,338 [INFO]  Epoch[0] Batch [0-37]\tSpeed: 4293.16 samples/sec\tcross-entropy=3.298014\tBeer-accuracy=0.000000\n",
      "2019-04-23 22:51:09,379 [INFO]  Epoch[0] Train-cross-entropy=2.335126\n",
      "2019-04-23 22:51:09,380 [INFO]  Epoch[0] Train-Beer-accuracy=0.000000\n",
      "2019-04-23 22:51:09,381 [INFO]  Epoch[0] Time cost=0.088\n",
      "2019-04-23 22:51:09,384 [INFO]  Saved checkpoint to \"imputer_model/model-0000.params\"\n",
      "2019-04-23 22:51:09,388 [INFO]  Epoch[0] Validation-cross-entropy=1.552503\n",
      "2019-04-23 22:51:09,390 [INFO]  Epoch[0] Validation-Beer-accuracy=0.000000\n",
      "2019-04-23 22:51:09,432 [INFO]  Epoch[1] Batch [0-37]\tSpeed: 4901.31 samples/sec\tcross-entropy=1.141511\tBeer-accuracy=0.000000\n",
      "2019-04-23 22:51:09,462 [INFO]  Epoch[1] Train-cross-entropy=1.068959\n",
      "2019-04-23 22:51:09,462 [INFO]  Epoch[1] Train-Beer-accuracy=0.000000\n",
      "2019-04-23 22:51:09,463 [INFO]  Epoch[1] Time cost=0.070\n",
      "2019-04-23 22:51:09,466 [INFO]  Saved checkpoint to \"imputer_model/model-0001.params\"\n",
      "2019-04-23 22:51:09,470 [INFO]  Epoch[1] Validation-cross-entropy=1.424673\n",
      "2019-04-23 22:51:09,471 [INFO]  Epoch[1] Validation-Beer-accuracy=0.000000\n",
      "2019-04-23 22:51:09,505 [INFO]  Epoch[2] Batch [0-37]\tSpeed: 5876.73 samples/sec\tcross-entropy=1.101421\tBeer-accuracy=0.000000\n",
      "2019-04-23 22:51:09,531 [INFO]  Epoch[2] Train-cross-entropy=1.030739\n",
      "2019-04-23 22:51:09,532 [INFO]  Epoch[2] Train-Beer-accuracy=0.000000\n",
      "2019-04-23 22:51:09,533 [INFO]  Epoch[2] Time cost=0.061\n",
      "2019-04-23 22:51:09,537 [INFO]  Saved checkpoint to \"imputer_model/model-0002.params\"\n",
      "2019-04-23 22:51:09,541 [INFO]  Epoch[2] Validation-cross-entropy=1.405218\n",
      "2019-04-23 22:51:09,542 [INFO]  Epoch[2] Validation-Beer-accuracy=0.000000\n",
      "2019-04-23 22:51:09,575 [INFO]  Epoch[3] Batch [0-37]\tSpeed: 6018.96 samples/sec\tcross-entropy=1.080938\tBeer-accuracy=0.000000\n",
      "2019-04-23 22:51:09,602 [INFO]  Epoch[3] Train-cross-entropy=1.011411\n",
      "2019-04-23 22:51:09,603 [INFO]  Epoch[3] Train-Beer-accuracy=0.000000\n",
      "2019-04-23 22:51:09,603 [INFO]  Epoch[3] Time cost=0.061\n",
      "2019-04-23 22:51:09,607 [INFO]  Saved checkpoint to \"imputer_model/model-0003.params\"\n",
      "2019-04-23 22:51:09,612 [INFO]  Epoch[3] Validation-cross-entropy=1.404162\n",
      "2019-04-23 22:51:09,612 [INFO]  Epoch[3] Validation-Beer-accuracy=0.000000\n",
      "2019-04-23 22:51:09,645 [INFO]  Epoch[4] Batch [0-37]\tSpeed: 6222.65 samples/sec\tcross-entropy=1.059748\tBeer-accuracy=0.000000\n",
      "2019-04-23 22:51:09,672 [INFO]  Epoch[4] Train-cross-entropy=0.993217\n",
      "2019-04-23 22:51:09,672 [INFO]  Epoch[4] Train-Beer-accuracy=0.000000\n",
      "2019-04-23 22:51:09,673 [INFO]  Epoch[4] Time cost=0.060\n",
      "2019-04-23 22:51:09,676 [INFO]  Saved checkpoint to \"imputer_model/model-0004.params\"\n",
      "2019-04-23 22:51:09,679 [INFO]  Epoch[4] Validation-cross-entropy=1.408519\n",
      "2019-04-23 22:51:09,681 [INFO]  Epoch[4] Validation-Beer-accuracy=0.000000\n",
      "2019-04-23 22:51:09,712 [INFO]  Epoch[5] Batch [0-37]\tSpeed: 6216.37 samples/sec\tcross-entropy=1.040715\tBeer-accuracy=0.000000\n",
      "2019-04-23 22:51:09,740 [INFO]  Epoch[5] Train-cross-entropy=0.976720\n",
      "2019-04-23 22:51:09,741 [INFO]  Epoch[5] Train-Beer-accuracy=0.000000\n",
      "2019-04-23 22:51:09,742 [INFO]  Epoch[5] Time cost=0.060\n",
      "2019-04-23 22:51:09,744 [INFO]  Saved checkpoint to \"imputer_model/model-0005.params\"\n",
      "2019-04-23 22:51:09,748 [INFO]  No improvement detected for 3 epochs compared to 1.4052176885306835 last error obtained: 1.413248471915722, stopping here\n",
      "2019-04-23 22:51:09,749 [INFO]  Stopping training, patience reached\n",
      "2019-04-23 22:51:09,750 [INFO]  \n",
      "========== done (0.46146082878112793 s) fit model\n",
      "2019-04-23 22:51:09,757 [INFO]  Expected calibration error: 100.0%\n",
      "2019-04-23 22:51:09,761 [INFO]  Expected calibration error after calibration: 100.0%\n",
      "2019-04-23 22:51:09,770 [INFO]  save metrics in imputer_model/fit-test-metrics.json\n",
      "2019-04-23 22:51:09,772 [INFO]  Keeping imputer_model/model-0003.params\n",
      "2019-04-23 22:51:09,773 [INFO]  Deleting imputer_model/model-0002.params\n",
      "2019-04-23 22:51:09,774 [INFO]  Deleting imputer_model/model-0000.params\n",
      "2019-04-23 22:51:09,776 [INFO]  Deleting imputer_model/model-0004.params\n",
      "2019-04-23 22:51:09,777 [INFO]  Deleting imputer_model/model-0005.params\n",
      "2019-04-23 22:51:09,778 [INFO]  Deleting imputer_model/model-0001.params\n"
     ]
    },
    {
     "data": {
      "text/plain": [
       "<datawig.simple_imputer.SimpleImputer at 0x1a54351080>"
      ]
     },
     "execution_count": 99,
     "metadata": {},
     "output_type": "execute_result"
    }
   ],
   "source": [
    "#Fit an imputer model on the train data\n",
    "imputer.fit(train_df=df_final[df_final['Beer'].notnull()], num_epochs=300,learning_rate=1e-3,batch_size=5,weight_decay=1e-4)"
   ]
  },
  {
   "cell_type": "code",
   "execution_count": 100,
   "metadata": {},
   "outputs": [
    {
     "name": "stderr",
     "output_type": "stream",
     "text": [
      "2019-04-23 22:51:11,473 [INFO]  Concatenating numeric columns ['Car', 'Steel', 'Gas', 'Electricity', 'Temp'] into numerical_features-q6ITZM5jtg\n",
      "2019-04-23 22:51:11,474 [INFO]  Normalizing with StandardScaler\n",
      "2019-04-23 22:51:11,477 [INFO]  Data Encoding - Encoded 435 rows of column                         Car,Steel,Gas,Electricity,Temp with <class 'datawig.column_encoders.NumericalEncoder'> into                         <class 'numpy.ndarray'> of shape (435, 5)                         and then into shape (435, 5)\n",
      "2019-04-23 22:51:11,479 [INFO]  Concatenating numeric columns ['Beer'] into Beer\n",
      "2019-04-23 22:51:11,480 [INFO]  Normalizing with StandardScaler\n",
      "2019-04-23 22:51:11,483 [INFO]  Label Encoding - Encoded 435 rows of column                             Beer with <class 'datawig.column_encoders.NumericalEncoder'> into                             <class 'numpy.ndarray'> of shape (435, 1) and                             then into shape (435, 1)\n",
      "2019-04-23 22:51:11,520 [INFO]  Top-k only for CategoricalEncoder, dropping Beer, <class 'datawig.column_encoders.NumericalEncoder'>\n",
      "2019-04-23 22:51:11,521 [INFO]  Precision filtering only for CategoricalEncoder returning                             Beer unfiltered\n"
     ]
    }
   ],
   "source": [
    "#Impute missing values and return original dataframe with predictions\n",
    "imputed = imputer.predict(df_final)\n",
    "#imputed.to_csv('./Imputation Results/imputation_Datawig.csv')"
   ]
  },
  {
   "cell_type": "code",
   "execution_count": 101,
   "metadata": {},
   "outputs": [],
   "source": [
    "predictions=imputed[imputed['Beer'].notnull()]"
   ]
  },
  {
   "cell_type": "code",
   "execution_count": 102,
   "metadata": {},
   "outputs": [
    {
     "data": {
      "text/plain": [
       "(219.16279303390607, 0.8194381788846463)"
      ]
     },
     "execution_count": 102,
     "metadata": {},
     "output_type": "execute_result"
    }
   ],
   "source": [
    "#Calculate MSE score\n",
    "MSE = mean_squared_error(predictions['Beer'].values, predictions['Beer_imputed'].values)\n",
    "\n",
    "#Calculate r2 score\n",
    "r2=r2_score(predictions['Beer'].values, predictions['Beer_imputed'].values)\n",
    "\n",
    "MSE,r2"
   ]
  },
  {
   "cell_type": "code",
   "execution_count": 103,
   "metadata": {},
   "outputs": [],
   "source": [
    "imputed_data=imputed.copy()\n",
    "imputed_data.loc['1972-09-01':'1975-02-01','Beer']=imputed.loc['1972-09-01':'1975-02-01']['Beer_imputed'].values\n",
    "imputed_data=imputed_data.drop('Beer_imputed',axis=1);"
   ]
  },
  {
   "cell_type": "markdown",
   "metadata": {},
   "source": [
    "The beer data has been imputed"
   ]
  },
  {
   "cell_type": "code",
   "execution_count": 104,
   "metadata": {
    "scrolled": true
   },
   "outputs": [
    {
     "data": {
      "text/html": [
       "<div>\n",
       "<style scoped>\n",
       "    .dataframe tbody tr th:only-of-type {\n",
       "        vertical-align: middle;\n",
       "    }\n",
       "\n",
       "    .dataframe tbody tr th {\n",
       "        vertical-align: top;\n",
       "    }\n",
       "\n",
       "    .dataframe thead th {\n",
       "        text-align: right;\n",
       "    }\n",
       "</style>\n",
       "<table border=\"1\" class=\"dataframe\">\n",
       "  <thead>\n",
       "    <tr style=\"text-align: right;\">\n",
       "      <th></th>\n",
       "      <th>Beer</th>\n",
       "      <th>Car</th>\n",
       "      <th>Steel</th>\n",
       "      <th>Gas</th>\n",
       "      <th>Electricity</th>\n",
       "      <th>Temp</th>\n",
       "    </tr>\n",
       "    <tr>\n",
       "      <th>Date</th>\n",
       "      <th></th>\n",
       "      <th></th>\n",
       "      <th></th>\n",
       "      <th></th>\n",
       "      <th></th>\n",
       "      <th></th>\n",
       "    </tr>\n",
       "  </thead>\n",
       "  <tbody>\n",
       "    <tr>\n",
       "      <th>1956-01-01</th>\n",
       "      <td>93.2</td>\n",
       "      <td>NaN</td>\n",
       "      <td>196.9</td>\n",
       "      <td>1709</td>\n",
       "      <td>1254</td>\n",
       "      <td>25.1</td>\n",
       "    </tr>\n",
       "    <tr>\n",
       "      <th>1956-02-01</th>\n",
       "      <td>96.0</td>\n",
       "      <td>NaN</td>\n",
       "      <td>192.1</td>\n",
       "      <td>1646</td>\n",
       "      <td>1290</td>\n",
       "      <td>25.3</td>\n",
       "    </tr>\n",
       "    <tr>\n",
       "      <th>1956-03-01</th>\n",
       "      <td>95.2</td>\n",
       "      <td>NaN</td>\n",
       "      <td>201.8</td>\n",
       "      <td>1794</td>\n",
       "      <td>1379</td>\n",
       "      <td>24.9</td>\n",
       "    </tr>\n",
       "    <tr>\n",
       "      <th>1956-04-01</th>\n",
       "      <td>77.1</td>\n",
       "      <td>NaN</td>\n",
       "      <td>186.9</td>\n",
       "      <td>1878</td>\n",
       "      <td>1346</td>\n",
       "      <td>23.9</td>\n",
       "    </tr>\n",
       "    <tr>\n",
       "      <th>1956-05-01</th>\n",
       "      <td>70.9</td>\n",
       "      <td>NaN</td>\n",
       "      <td>218.0</td>\n",
       "      <td>2173</td>\n",
       "      <td>1535</td>\n",
       "      <td>19.4</td>\n",
       "    </tr>\n",
       "  </tbody>\n",
       "</table>\n",
       "</div>"
      ],
      "text/plain": [
       "            Beer  Car  Steel   Gas  Electricity  Temp\n",
       "Date                                                 \n",
       "1956-01-01  93.2  NaN  196.9  1709         1254  25.1\n",
       "1956-02-01  96.0  NaN  192.1  1646         1290  25.3\n",
       "1956-03-01  95.2  NaN  201.8  1794         1379  24.9\n",
       "1956-04-01  77.1  NaN  186.9  1878         1346  23.9\n",
       "1956-05-01  70.9  NaN  218.0  2173         1535  19.4"
      ]
     },
     "execution_count": 104,
     "metadata": {},
     "output_type": "execute_result"
    }
   ],
   "source": [
    "imputed_data.head()"
   ]
  },
  {
   "cell_type": "markdown",
   "metadata": {},
   "source": [
    "Now, we would like to impute the Car."
   ]
  },
  {
   "cell_type": "code",
   "execution_count": 114,
   "metadata": {},
   "outputs": [],
   "source": [
    "#Initialize a SimpleImputer model\n",
    "imputer = datawig.SimpleImputer(\n",
    "    input_columns=['Beer','Steel','Gas','Electricity','Temp'], # column(s) containing information about the column we want to impute\n",
    "    output_column='Car', # the column we'd like to impute values for\n",
    "    output_path = 'imputer_model' # stores model data and metrics\n",
    "    )"
   ]
  },
  {
   "cell_type": "code",
   "execution_count": 115,
   "metadata": {
    "scrolled": true
   },
   "outputs": [
    {
     "name": "stderr",
     "output_type": "stream",
     "text": [
      "2019-04-23 22:55:22,739 [INFO]  Assuming 5 numeric input columns: Beer, Steel, Gas, Electricity, Temp\n",
      "2019-04-23 22:55:22,740 [INFO]  Assuming 0 string input columns: \n",
      "2019-04-23 22:55:22,742 [INFO]  No output column name provided for ColumnEncoder using Car\n",
      "2019-04-23 22:55:22,743 [INFO]  Assuming numeric output column: Car\n",
      "2019-04-23 22:55:22,745 [INFO]  Using [[cpu(0)]] as the context for training\n",
      "2019-04-23 22:55:22,747 [INFO]  Fitting label encoder <class 'datawig.column_encoders.NumericalEncoder'> on 332 rows                             of training data\n",
      "2019-04-23 22:55:22,751 [INFO]  Detected 0 rows with missing labels                         for column Car\n",
      "2019-04-23 22:55:22,752 [INFO]  Dropping 0/332 rows\n",
      "2019-04-23 22:55:22,754 [INFO]  Detected 0 rows with missing labels                         for column Car\n",
      "2019-04-23 22:55:22,755 [INFO]  Dropping 0/36 rows\n",
      "2019-04-23 22:55:22,757 [INFO]  Train: 332, Test: 36\n",
      "2019-04-23 22:55:22,759 [INFO]  Fitting data encoder <class 'datawig.column_encoders.NumericalEncoder'> on columns Beer, Steel, Gas, Electricity, Temp and 332 rows of training data with parameters {'input_columns': ['Beer', 'Steel', 'Gas', 'Electricity', 'Temp'], 'output_column': 'numerical_features-BuNO6n9JEC', 'output_dim': 5, 'normalize': True, 'scaler': None}\n",
      "2019-04-23 22:55:22,766 [INFO]  Building Train Iterator with 332 elements\n",
      "2019-04-23 22:55:22,781 [INFO]  Concatenating numeric columns ['Beer', 'Steel', 'Gas', 'Electricity', 'Temp'] into numerical_features-BuNO6n9JEC\n",
      "2019-04-23 22:55:22,782 [INFO]  Normalizing with StandardScaler\n",
      "2019-04-23 22:55:22,785 [INFO]  Data Encoding - Encoded 336 rows of column                         Beer,Steel,Gas,Electricity,Temp with <class 'datawig.column_encoders.NumericalEncoder'> into                         <class 'numpy.ndarray'> of shape (336, 5)                         and then into shape (336, 5)\n",
      "2019-04-23 22:55:22,788 [INFO]  Concatenating numeric columns ['Car'] into Car\n",
      "2019-04-23 22:55:22,790 [INFO]  Normalizing with StandardScaler\n",
      "2019-04-23 22:55:22,792 [INFO]  Label Encoding - Encoded 336 rows of column                             Car with <class 'datawig.column_encoders.NumericalEncoder'> into                             <class 'numpy.ndarray'> of shape (336, 1) and                             then into shape (336, 1)\n",
      "2019-04-23 22:55:22,794 [INFO]  Building Test Iterator with 36 elements\n",
      "2019-04-23 22:55:22,819 [INFO]  Concatenating numeric columns ['Beer', 'Steel', 'Gas', 'Electricity', 'Temp'] into numerical_features-BuNO6n9JEC\n",
      "2019-04-23 22:55:22,820 [INFO]  Normalizing with StandardScaler\n",
      "2019-04-23 22:55:22,824 [INFO]  Data Encoding - Encoded 48 rows of column                         Beer,Steel,Gas,Electricity,Temp with <class 'datawig.column_encoders.NumericalEncoder'> into                         <class 'numpy.ndarray'> of shape (48, 5)                         and then into shape (48, 5)\n",
      "2019-04-23 22:55:22,827 [INFO]  Concatenating numeric columns ['Car'] into Car\n",
      "2019-04-23 22:55:22,828 [INFO]  Normalizing with StandardScaler\n",
      "2019-04-23 22:55:22,831 [INFO]  Label Encoding - Encoded 48 rows of column                             Car with <class 'datawig.column_encoders.NumericalEncoder'> into                             <class 'numpy.ndarray'> of shape (48, 1) and                             then into shape (48, 1)\n",
      "2019-04-23 22:55:22,833 [INFO]  Concatenating all 1 latent symbols\n",
      "2019-04-23 22:55:22,835 [INFO]  Constructing numerical loss for column Car\n",
      "2019-04-23 22:55:22,839 [INFO]  Building output symbols\n",
      "2019-04-23 22:55:22,845 [INFO]  \n",
      "========== start: fit model\n",
      "2019-04-23 22:55:22,846 [WARNING]  Already bound, ignoring bind()\n",
      "2019-04-23 22:55:22,867 [INFO]  Epoch[0] Batch [0-11]\tSpeed: 10786.84 samples/sec\tcross-entropy=15.172592\tCar-accuracy=0.000000\n",
      "2019-04-23 22:55:22,884 [INFO]  Epoch[0] Train-cross-entropy=14.373746\n",
      "2019-04-23 22:55:22,887 [INFO]  Epoch[0] Train-Car-accuracy=0.000000\n",
      "2019-04-23 22:55:22,888 [INFO]  Epoch[0] Time cost=0.039\n",
      "2019-04-23 22:55:22,893 [INFO]  Saved checkpoint to \"imputer_model/model-0000.params\"\n",
      "2019-04-23 22:55:22,899 [INFO]  Epoch[0] Validation-cross-entropy=9.328556\n",
      "2019-04-23 22:55:22,900 [INFO]  Epoch[0] Validation-Car-accuracy=0.000000\n",
      "2019-04-23 22:55:22,921 [INFO]  Epoch[1] Batch [0-11]\tSpeed: 11335.78 samples/sec\tcross-entropy=11.218067\tCar-accuracy=0.000000\n",
      "2019-04-23 22:55:22,937 [INFO]  Epoch[1] Train-cross-entropy=11.364039\n",
      "2019-04-23 22:55:22,941 [INFO]  Epoch[1] Train-Car-accuracy=0.000000\n",
      "2019-04-23 22:55:22,943 [INFO]  Epoch[1] Time cost=0.042\n",
      "2019-04-23 22:55:22,948 [INFO]  Saved checkpoint to \"imputer_model/model-0001.params\"\n",
      "2019-04-23 22:55:22,954 [INFO]  Epoch[1] Validation-cross-entropy=9.563357\n",
      "2019-04-23 22:55:22,957 [INFO]  Epoch[1] Validation-Car-accuracy=0.000000\n",
      "2019-04-23 22:55:22,979 [INFO]  Epoch[2] Batch [0-11]\tSpeed: 9705.46 samples/sec\tcross-entropy=9.976461\tCar-accuracy=0.000000\n",
      "2019-04-23 22:55:22,993 [INFO]  Epoch[2] Train-cross-entropy=10.397355\n",
      "2019-04-23 22:55:22,996 [INFO]  Epoch[2] Train-Car-accuracy=0.000000\n",
      "2019-04-23 22:55:22,998 [INFO]  Epoch[2] Time cost=0.039\n",
      "2019-04-23 22:55:23,002 [INFO]  Saved checkpoint to \"imputer_model/model-0002.params\"\n",
      "2019-04-23 22:55:23,007 [INFO]  Epoch[2] Validation-cross-entropy=10.598167\n",
      "2019-04-23 22:55:23,009 [INFO]  Epoch[2] Validation-Car-accuracy=0.000000\n",
      "2019-04-23 22:55:23,025 [INFO]  Epoch[3] Batch [0-11]\tSpeed: 13312.13 samples/sec\tcross-entropy=9.678492\tCar-accuracy=0.000000\n",
      "2019-04-23 22:55:23,038 [INFO]  Epoch[3] Train-cross-entropy=10.066509\n",
      "2019-04-23 22:55:23,039 [INFO]  Epoch[3] Train-Car-accuracy=0.000000\n",
      "2019-04-23 22:55:23,040 [INFO]  Epoch[3] Time cost=0.030\n",
      "2019-04-23 22:55:23,044 [INFO]  Saved checkpoint to \"imputer_model/model-0003.params\"\n",
      "2019-04-23 22:55:23,047 [INFO]  No improvement detected for 3 epochs compared to 9.328556219736734 last error obtained: 11.15260394414266, stopping here\n",
      "2019-04-23 22:55:23,049 [INFO]  Stopping training, patience reached\n",
      "2019-04-23 22:55:23,050 [INFO]  \n",
      "========== done (0.20514392852783203 s) fit model\n",
      "2019-04-23 22:55:23,057 [INFO]  Expected calibration error: 100.0%\n",
      "2019-04-23 22:55:23,063 [INFO]  Expected calibration error after calibration: 100.0%\n",
      "2019-04-23 22:55:23,068 [INFO]  save metrics in imputer_model/fit-test-metrics.json\n",
      "2019-04-23 22:55:23,070 [INFO]  Keeping imputer_model/model-0000.params\n",
      "2019-04-23 22:55:23,072 [INFO]  Deleting imputer_model/model-0002.params\n",
      "2019-04-23 22:55:23,074 [INFO]  Deleting imputer_model/model-0001.params\n",
      "2019-04-23 22:55:23,076 [INFO]  Deleting imputer_model/model-0003.params\n"
     ]
    },
    {
     "data": {
      "text/plain": [
       "<datawig.simple_imputer.SimpleImputer at 0x1a546c7470>"
      ]
     },
     "execution_count": 115,
     "metadata": {},
     "output_type": "execute_result"
    }
   ],
   "source": [
    "#Fit an imputer model on the train data\n",
    "imputer.fit(train_df=imputed_data[imputed_data['Car'].notnull()], num_epochs=300)"
   ]
  },
  {
   "cell_type": "code",
   "execution_count": 116,
   "metadata": {},
   "outputs": [
    {
     "name": "stderr",
     "output_type": "stream",
     "text": [
      "2019-04-23 22:55:27,523 [INFO]  Concatenating numeric columns ['Beer', 'Steel', 'Gas', 'Electricity', 'Temp'] into numerical_features-BuNO6n9JEC\n",
      "2019-04-23 22:55:27,525 [INFO]  Normalizing with StandardScaler\n",
      "2019-04-23 22:55:27,527 [INFO]  Data Encoding - Encoded 448 rows of column                         Beer,Steel,Gas,Electricity,Temp with <class 'datawig.column_encoders.NumericalEncoder'> into                         <class 'numpy.ndarray'> of shape (448, 5)                         and then into shape (448, 5)\n",
      "2019-04-23 22:55:27,529 [INFO]  Concatenating numeric columns ['Car'] into Car\n",
      "2019-04-23 22:55:27,531 [INFO]  Normalizing with StandardScaler\n",
      "2019-04-23 22:55:27,534 [INFO]  Label Encoding - Encoded 448 rows of column                             Car with <class 'datawig.column_encoders.NumericalEncoder'> into                             <class 'numpy.ndarray'> of shape (448, 1) and                             then into shape (448, 1)\n",
      "2019-04-23 22:55:27,548 [INFO]  Top-k only for CategoricalEncoder, dropping Car, <class 'datawig.column_encoders.NumericalEncoder'>\n",
      "2019-04-23 22:55:27,550 [INFO]  Precision filtering only for CategoricalEncoder returning                             Car unfiltered\n"
     ]
    }
   ],
   "source": [
    "#Impute missing values and return original dataframe with predictions\n",
    "imputed_car = imputer.predict(imputed_data)\n",
    "#imputed.to_csv('./Imputation Results/imputation_Datawig.csv')"
   ]
  },
  {
   "cell_type": "code",
   "execution_count": 118,
   "metadata": {},
   "outputs": [
    {
     "data": {
      "text/html": [
       "<div>\n",
       "<style scoped>\n",
       "    .dataframe tbody tr th:only-of-type {\n",
       "        vertical-align: middle;\n",
       "    }\n",
       "\n",
       "    .dataframe tbody tr th {\n",
       "        vertical-align: top;\n",
       "    }\n",
       "\n",
       "    .dataframe thead th {\n",
       "        text-align: right;\n",
       "    }\n",
       "</style>\n",
       "<table border=\"1\" class=\"dataframe\">\n",
       "  <thead>\n",
       "    <tr style=\"text-align: right;\">\n",
       "      <th></th>\n",
       "      <th>Beer</th>\n",
       "      <th>Car</th>\n",
       "      <th>Steel</th>\n",
       "      <th>Gas</th>\n",
       "      <th>Electricity</th>\n",
       "      <th>Temp</th>\n",
       "      <th>Car_imputed</th>\n",
       "    </tr>\n",
       "    <tr>\n",
       "      <th>Date</th>\n",
       "      <th></th>\n",
       "      <th></th>\n",
       "      <th></th>\n",
       "      <th></th>\n",
       "      <th></th>\n",
       "      <th></th>\n",
       "      <th></th>\n",
       "    </tr>\n",
       "  </thead>\n",
       "  <tbody>\n",
       "    <tr>\n",
       "      <th>1956-01-01</th>\n",
       "      <td>93.2</td>\n",
       "      <td>NaN</td>\n",
       "      <td>196.9</td>\n",
       "      <td>1709</td>\n",
       "      <td>1254</td>\n",
       "      <td>25.1</td>\n",
       "      <td>13353.124051</td>\n",
       "    </tr>\n",
       "    <tr>\n",
       "      <th>1956-02-01</th>\n",
       "      <td>96.0</td>\n",
       "      <td>NaN</td>\n",
       "      <td>192.1</td>\n",
       "      <td>1646</td>\n",
       "      <td>1290</td>\n",
       "      <td>25.3</td>\n",
       "      <td>13402.324907</td>\n",
       "    </tr>\n",
       "    <tr>\n",
       "      <th>1956-03-01</th>\n",
       "      <td>95.2</td>\n",
       "      <td>NaN</td>\n",
       "      <td>201.8</td>\n",
       "      <td>1794</td>\n",
       "      <td>1379</td>\n",
       "      <td>24.9</td>\n",
       "      <td>13847.022922</td>\n",
       "    </tr>\n",
       "    <tr>\n",
       "      <th>1956-04-01</th>\n",
       "      <td>77.1</td>\n",
       "      <td>NaN</td>\n",
       "      <td>186.9</td>\n",
       "      <td>1878</td>\n",
       "      <td>1346</td>\n",
       "      <td>23.9</td>\n",
       "      <td>12600.094446</td>\n",
       "    </tr>\n",
       "    <tr>\n",
       "      <th>1956-05-01</th>\n",
       "      <td>70.9</td>\n",
       "      <td>NaN</td>\n",
       "      <td>218.0</td>\n",
       "      <td>2173</td>\n",
       "      <td>1535</td>\n",
       "      <td>19.4</td>\n",
       "      <td>15945.470801</td>\n",
       "    </tr>\n",
       "  </tbody>\n",
       "</table>\n",
       "</div>"
      ],
      "text/plain": [
       "            Beer  Car  Steel   Gas  Electricity  Temp   Car_imputed\n",
       "Date                                                               \n",
       "1956-01-01  93.2  NaN  196.9  1709         1254  25.1  13353.124051\n",
       "1956-02-01  96.0  NaN  192.1  1646         1290  25.3  13402.324907\n",
       "1956-03-01  95.2  NaN  201.8  1794         1379  24.9  13847.022922\n",
       "1956-04-01  77.1  NaN  186.9  1878         1346  23.9  12600.094446\n",
       "1956-05-01  70.9  NaN  218.0  2173         1535  19.4  15945.470801"
      ]
     },
     "execution_count": 118,
     "metadata": {},
     "output_type": "execute_result"
    }
   ],
   "source": [
    "imputed_car.head()"
   ]
  },
  {
   "cell_type": "code",
   "execution_count": 119,
   "metadata": {},
   "outputs": [],
   "source": [
    "imputed_data_final=imputed_car.copy()\n",
    "imputed_data_final.loc['1956-01-01':'1961-06-01','Car']=\\\n",
    "imputed_car.loc['1956-01-01':'1961-06-01']['Car_imputed'].values\n",
    "imputed_data_final=imputed_data_final.drop('Car_imputed',axis=1)"
   ]
  },
  {
   "cell_type": "code",
   "execution_count": 142,
   "metadata": {},
   "outputs": [],
   "source": [
    "ip_dp=imputed_data_final.values"
   ]
  },
  {
   "cell_type": "code",
   "execution_count": 121,
   "metadata": {},
   "outputs": [],
   "source": [
    "#imputed_data_final.to_csv('./Imputation Results/imputation_Datawig.csv',sep=',')"
   ]
  },
  {
   "cell_type": "markdown",
   "metadata": {},
   "source": [
    "### Summary"
   ]
  },
  {
   "cell_type": "code",
   "execution_count": 133,
   "metadata": {},
   "outputs": [
    {
     "data": {
      "text/plain": [
       "array([133.758, 133.758, 133.758, 133.758, 133.758, 133.758, 133.758,\n",
       "       133.758, 133.758, 133.758, 133.758, 133.758, 133.758, 133.758,\n",
       "       133.758, 133.758, 133.758, 133.758, 133.758, 133.758, 133.758,\n",
       "       133.758, 133.758, 133.758, 133.758, 133.758, 133.758, 133.758,\n",
       "       133.758, 133.758])"
      ]
     },
     "execution_count": 133,
     "metadata": {},
     "output_type": "execute_result"
    }
   ],
   "source": [
    "np.round(ip_mice[200:230,0],3)"
   ]
  },
  {
   "cell_type": "code",
   "execution_count": 134,
   "metadata": {},
   "outputs": [
    {
     "data": {
      "text/plain": [
       "array([133.758, 129.104, 133.758, 133.758, 135.488, 129.983, 130.215,\n",
       "       133.758, 129.803, 175.662, 141.758, 149.548, 132.011, 132.106,\n",
       "       129.229, 133.758, 150.656, 133.758, 123.799, 130.759, 144.196,\n",
       "       150.885, 144.218, 155.397, 150.754, 146.004, 145.522, 143.889,\n",
       "       154.777, 158.783])"
      ]
     },
     "execution_count": 134,
     "metadata": {},
     "output_type": "execute_result"
    }
   ],
   "source": [
    "np.round(ip_knn[200:230,0],3)"
   ]
  },
  {
   "cell_type": "code",
   "execution_count": 140,
   "metadata": {},
   "outputs": [
    {
     "data": {
      "text/plain": [
       "array([143.782, 150.655, 150.764, 148.602, 145.189, 135.655, 152.186,\n",
       "       147.568, 153.941, 126.864, 159.759, 160.414, 157.489, 161.279,\n",
       "       156.479, 165.273, 161.103, 151.244, 159.9  , 134.902, 139.134,\n",
       "       136.605, 160.229, 157.891, 151.45 , 170.61 , 165.908, 170.979,\n",
       "       158.989, 157.011])"
      ]
     },
     "execution_count": 140,
     "metadata": {},
     "output_type": "execute_result"
    }
   ],
   "source": [
    "np.round(ip_nnm[200:230,0],3)"
   ]
  },
  {
   "cell_type": "code",
   "execution_count": 141,
   "metadata": {},
   "outputs": [
    {
     "data": {
      "text/plain": [
       "array([130.566, 130.75 , 132.392, 129.175, 132.195, 131.735, 130.198,\n",
       "       129.813, 130.451, 129.507, 129.711, 130.739, 131.133, 130.305,\n",
       "       132.024, 130.099, 139.08 , 129.856, 130.407, 129.558, 131.656,\n",
       "       140.283, 128.175, 140.852, 129.208, 130.528, 131.4  , 129.286,\n",
       "       140.414, 129.313])"
      ]
     },
     "execution_count": 141,
     "metadata": {},
     "output_type": "execute_result"
    }
   ],
   "source": [
    "np.round(ip_mf[200:230,0],3)"
   ]
  },
  {
   "cell_type": "code",
   "execution_count": 144,
   "metadata": {},
   "outputs": [
    {
     "data": {
      "text/plain": [
       "array([142.715, 147.973, 153.867, 166.59 , 158.615, 153.579, 166.996,\n",
       "       156.653, 152.112, 110.034, 136.355, 145.243, 156.285, 164.192,\n",
       "       165.443, 179.951, 165.727, 166.123, 172.743, 146.52 , 140.887,\n",
       "       122.871, 139.094, 134.443, 142.683, 163.654, 163.183, 183.122,\n",
       "       164.731, 172.646])"
      ]
     },
     "execution_count": 144,
     "metadata": {},
     "output_type": "execute_result"
    }
   ],
   "source": [
    "np.round(ip_dp[200:230,0],3)"
   ]
  },
  {
   "cell_type": "code",
   "execution_count": 159,
   "metadata": {},
   "outputs": [
    {
     "data": {
      "text/plain": [
       "Text(0, 0.5, 'Beer Production')"
      ]
     },
     "execution_count": 159,
     "metadata": {},
     "output_type": "execute_result"
    },
    {
     "data": {
      "image/png": "[encoded data removed]",
      "text/plain": [
       "<Figure size 864x432 with 1 Axes>"
      ]
     },
     "metadata": {
      "needs_background": "light"
     },
     "output_type": "display_data"
    }
   ],
   "source": [
    "fig, ax = plt.subplots(figsize=(12,6))\n",
    "plt.plot(ip_mice[200:230,0],label='MICE')\n",
    "plt.plot(ip_knn[200:230,0],label='KNN')\n",
    "plt.plot(ip_nnm[200:230,0],label='NNM')\n",
    "plt.plot(ip_mf[200:230,0],label='MF')\n",
    "plt.plot(ip_dp[200:230,0],label='DP')\n",
    "plt.legend()\n",
    "plt.title('Imputation Comparison')\n",
    "plt.ylabel('Beer Production')"
   ]
  }
 ],
 "metadata": {
  "kernelspec": {
   "display_name": "Python 3",
   "language": "python",
   "name": "python3"
  },
  "language_info": {
   "codemirror_mode": {
    "name": "ipython",
    "version": 3
   },
   "file_extension": ".py",
   "mimetype": "text/x-python",
   "name": "python",
   "nbconvert_exporter": "python",
   "pygments_lexer": "ipython3",
   "version": "3.7.1"
  }
 },
 "nbformat": 4,
 "nbformat_minor": 2
}
